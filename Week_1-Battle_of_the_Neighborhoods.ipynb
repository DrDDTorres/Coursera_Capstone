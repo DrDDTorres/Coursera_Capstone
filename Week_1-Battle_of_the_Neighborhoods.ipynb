{
 "cells": [
  {
   "cell_type": "markdown",
   "metadata": {},
   "source": [
    "# The Battle of the Neighborhoods - Crime and Healthy Food Priority Areas in Baltimore, MD"
   ]
  },
  {
   "cell_type": "markdown",
   "metadata": {},
   "source": [
    "## Part I: Statement of the Problem, Background, and Data"
   ]
  },
  {
   "cell_type": "markdown",
   "metadata": {},
   "source": [
    "### Statement of the Problem"
   ]
  },
  {
   "cell_type": "markdown",
   "metadata": {},
   "source": [
    "#### Baltimore, Maryland is one of the largest cities in the United States. Less than an hour drive from the nation's capital of Washington, D.C., it is an urban area beset by a high rate of violent crime and crime's attendant spillover effects into other aspects of life, including the seemingly unrelated issue of physical health and well-being.  One of consequences of a high crime rate is that it discourages retail development where it is persistent.  While this makes sense on its face as new retail development is likely to attract crime in an already crime-ridden area, where it concerns the food security of people living in high crime areas, the lack of development can have lasting impacts on their access to healthy foods, which, in turn, can lead to more crime also."
   ]
  },
  {
   "cell_type": "markdown",
   "metadata": {},
   "source": [
    "#### Baltimore's Department of Planning and the Johns Hopkins Center for a Livable Future aims to balance the need for greater access to food security for those in high crime areas or neighborhoods and the need for business' right to economic security.  By identifying what it terms 'Healthy Food Priority Areas' (hereafter HFPA), it can make recommendations on the best location for supermarket development in the city of Baltimore.  Whereas identification of HFPAs have been dependent on the relationship of the median household income to the federal poverty level, the percentage of households with access to a vehicle, and the distance to a supermarket, crime has been a neglected factor.  This is no doubt due to crime's consideration as a supply-side factor that increases the cost of a supermarket doing business in a specific area.  Crime, though, may also be a demand-side factor.  That is, particularly residents of specific areas or neighborhoods may prefer to travel farther to shop in an area or neighborhood with less crime.  This project will consider supermarket location in Baltimore neighborhoods and its relationship to neighborhood crime rates."
   ]
  },
  {
   "cell_type": "markdown",
   "metadata": {},
   "source": [
    "### Background"
   ]
  },
  {
   "cell_type": "markdown",
   "metadata": {},
   "source": [
    "#### Approximately a quarter of Baltimore, Maryland's 600,000 residents live in an HPFA (formerly referred to as 'food deserts').  A majority minority city, access to healthy food is particularly pronounced for Black residents.  Nearly 125,000 Black Baltimoreans (or about 31% of the Black population) live in HPFAs; this compares to a little more than 16,000 Whites (or about 9% of the White population.  Nearly a third of all children in Baltimore, some 38,000 youngsters, do not have access to healthy foods where they live.  The average Healthy Food Availability Index (HFAI), a measure of the degree to which a market basket of staple foods and healthy options of common foods are available, is in the lowest tier.  Indeed, almost 50 percent of Baltimore neighborhoods are classified as Healthy Food Priority Areas."
   ]
  },
  {
   "cell_type": "markdown",
   "metadata": {},
   "source": [
    "#### Though the lack of access to supermarket is assumed to be linearly associated with median income, the literature does not support this conclusion in all cases.  In some places, in the United States and elsewhere, sometimes there is greater access to supermarkets in urban areas and high-need neighborhoods.  It is true that there are many low-class neighborhoods where access to healthy foods is limited.  It is also true that some higher-income neighborhoods where this is the case.  Income, like supermarket access, though, may be influenced by some other factor."
   ]
  },
  {
   "cell_type": "markdown",
   "metadata": {},
   "source": [
    "#### Race and vehicle ownership, while they may be associated with limited access to healthy foods, are also factors that may be explained by something else.  Ignoring crime, which has negative relationship with income and vehicle ownership, and which is predominant among racial minorities, means that one cannot truly understand why some neighborhoods have high numbers of supermarket and why others have low number of supermarkets.  Proper identification of HFPAs must consider crime.  Once properly identified, suggestions may be made to the city of Baltimore about where to locate supermarkets to achieve food equity."
   ]
  },
  {
   "cell_type": "markdown",
   "metadata": {},
   "source": [
    "### Data"
   ]
  },
  {
   "cell_type": "markdown",
   "metadata": {},
   "source": [
    "#### For this project I will utilize two primary data sources: Baltimore Neighborhood Crime Data from https://data.baltimorecity.gov/Crime/Crime-by-Neighborhood/6ayg-3z5z and Baltimore area supermarket data from Foursquare."
   ]
  },
  {
   "cell_type": "markdown",
   "metadata": {},
   "source": [
    "#### Crime data come from calendar year 2018 and include reports of nearly 70,000 violent crimes committed in 230 neighborhoods of Baltimore.  Crimes include aggravated assault, arson, auto theft, burglary, common assault, homicide, larceny, larceny from auto, rape, robbery-carjacking, robbery-commercial, robbery-residence, robbery-street, and shooting.  The data are aggregated to the neighborhood level and a crime rate per 1,000 residents is calculated based on population numbers from the 2010 Census.  Latitudes and longitudes exist for all the neighborhoods in this project."
   ]
  },
  {
   "cell_type": "markdown",
   "metadata": {},
   "source": [
    "#### To count the number of supermarkets within each Baltimore neighborhood, I use Foursquare to extract venue data for supermarkets only.  I limit the project to supermarkets because they provide the widest variety of healthy foods.  Smaller grocers, convenience stores, and public markets are rated low on the Healthy Food Availability Index (HFAI) and are therefore excluded.  When searching for venues, I will use a search radius of 200m as this is the optimal urban neighborhood size.  The goal is to ascertain, first, whether there are fewer supermarkets in neighborhoods with a high crime rate than in neighborhoods with a low crime rate.  I hypothesize that there are.  Among these neighborhoods, those with moderate crime but low numbers of supermarkets per 1,000 residents, should be targets for supermarket development.  The assumption is that supermarkets may be willing to accept some level of crime to do business as the removal of all crime is too costly."
   ]
  },
  {
   "cell_type": "code",
   "execution_count": null,
   "metadata": {},
   "outputs": [],
   "source": []
  }
 ],
 "metadata": {
  "kernelspec": {
   "display_name": "Python",
   "language": "python",
   "name": "conda-env-python-py"
  },
  "language_info": {
   "codemirror_mode": {
    "name": "ipython",
    "version": 3
   },
   "file_extension": ".py",
   "mimetype": "text/x-python",
   "name": "python",
   "nbconvert_exporter": "python",
   "pygments_lexer": "ipython3",
   "version": "3.6.7"
  }
 },
 "nbformat": 4,
 "nbformat_minor": 4
}
